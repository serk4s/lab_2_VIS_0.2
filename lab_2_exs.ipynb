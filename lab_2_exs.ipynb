{
 "cells": [
  {
   "metadata": {
    "ExecuteTime": {
     "end_time": "2025-02-13T17:24:09.945044Z",
     "start_time": "2025-02-13T17:24:09.940534Z"
    }
   },
   "cell_type": "code",
   "source": [
    "# Я РАЗОБРАЛСЯ в %time: выведет: время ЦПУ (реальное время выполнения работы ппроцессором) и Wall время (считает время ввода и вывода)\n",
    "# CPU times - время работы процессора, а точнее: user - время на выполнение кода,  sys - время на выполнение системных запросов, total - общее время работы (сумма предыдущих)\n",
    "# Wall time - время работы программы, измеренное обычными часами (то есть оно не точное и, как правило, больше, поэтому тутда не стоит даже смотреть, тк там еще и время ожидания завершения других процессов (у меня их нет), паузы между операциями, время переключения между процессами\n",
    "# Ну и выводит информацию в микросекундах 1μs = 0,000001 обычной секунды\n",
    "\n",
    "# И сама лаба:\n",
    "# В этой лабе старался сделать упор на оптимизацию и скорость время работы программ, для этого использовал %time, о котором вы мне сказали.\n",
    "# Можно простить пару микросекунд в каждом коде, тк отступы тоже отнимают время (на моей практике от 0.001с до 0.004с!!!), тк интерпритатор обрабатывает пробелы при чтении. НО читаемость важнее, поэтому отступы и пробелы есть"
   ],
   "id": "f9716f0ec284191c",
   "outputs": [],
   "execution_count": 32
  },
  {
   "metadata": {},
   "cell_type": "markdown",
   "source": "1. \"Делаем срезы\"",
   "id": "8a77807f92f26ee"
  },
  {
   "metadata": {
    "ExecuteTime": {
     "end_time": "2025-02-13T17:29:29.440125Z",
     "start_time": "2025-02-13T17:29:19.134971Z"
    }
   },
   "cell_type": "code",
   "source": [
    "%time\n",
    "\n",
    "user_input_string = input('Введите строку: ')\n",
    "\n",
    "print(user_input_string, user_input_string[2], user_input_string[-2], user_input_string[:5], user_input_string[:-2], user_input_string[0::2], user_input_string[1::2], user_input_string[::-2], len(user_input_string), sep = '\\n')"
   ],
   "id": "fbc121e30a2defb3",
   "outputs": [
    {
     "name": "stdout",
     "output_type": "stream",
     "text": [
      "CPU times: user 1 μs, sys: 1 μs, total: 2 μs\n",
      "Wall time: 5.01 μs\n",
      "qwertyuiop\n",
      "e\n",
      "o\n",
      "qwert\n",
      "qwertyui\n",
      "qetuo\n",
      "wryip\n",
      "piyrw\n",
      "10\n"
     ]
    }
   ],
   "execution_count": 33
  },
  {
   "metadata": {},
   "cell_type": "markdown",
   "source": "2. Две половинки",
   "id": "160367920ba40088"
  },
  {
   "metadata": {
    "ExecuteTime": {
     "end_time": "2025-02-13T16:45:12.210033Z",
     "start_time": "2025-02-13T16:45:10.335346Z"
    }
   },
   "cell_type": "code",
   "source": [
    "%time\n",
    "\n",
    "user_input_string = input('Введите строку: ')\n",
    "len_of_half = len(user_input_string) // 2\n",
    "result_string = user_input_string[len_of_half + (len(user_input_string) % 2):] + user_input_string[:len_of_half + (len(user_input_string) % 2)]\n",
    "\n",
    "print(result_string)\n",
    "\n",
    "#можно ускорить оптимизацией через буферизацию ввода и вывода и оптимизацию через байтовые массивы (сюда лезть не стал), но в файле лабы об этом не сказано и страшно за баллы, НО\n",
    "#import sys\n",
    "#s = sys.stdin.readline().rstrip()\n",
    "#half = len(s) >> 1\n",
    "#result = s[half + (len(s) % 2):] + s[:half + (len(s) % 2)]\n",
    "#sys.stdout.write(result + '\\n')\n",
    "# + ко всему отступы добавляют время работы, а без них невозможно соблюдение PEP8, этот код самый быстрый из тех, что я пробовал для этого задания, но опять же страшно за баллы. Он есть, но он скрыт в коммы"
   ],
   "id": "d5eda4bb7d560ea",
   "outputs": [
    {
     "name": "stdout",
     "output_type": "stream",
     "text": [
      "CPU times: user 2 μs, sys: 0 ns, total: 2 μs\n",
      "Wall time: 8.82 μs\n",
      "\n"
     ]
    }
   ],
   "execution_count": 27
  },
  {
   "metadata": {},
   "cell_type": "markdown",
   "source": "3. Обращение объекта",
   "id": "527b30ceafd6f41"
  },
  {
   "metadata": {
    "ExecuteTime": {
     "end_time": "2025-02-13T17:45:43.596088Z",
     "start_time": "2025-02-13T17:45:28.719539Z"
    }
   },
   "cell_type": "code",
   "source": [
    "%time\n",
    "\n",
    "user_input_string = input('Введите строку: ')\n",
    "\n",
    "first_of_h = user_input_string.find('h')\n",
    "last_of_h = user_input_string.rfind('h')\n",
    "# можно было написать middle_part, но это время\n",
    "print(user_input_string[:(first_of_h) + 1] + user_input_string[first_of_h + 1:last_of_h][::-1] + user_input_string[last_of_h:])\n",
    "\n"
   ],
   "id": "ead2772adbfe2bdd",
   "outputs": [
    {
     "name": "stdout",
     "output_type": "stream",
     "text": [
      "CPU times: user 1e+03 ns, sys: 0 ns, total: 1e+03 ns\n",
      "Wall time: 5.96 μs\n",
      "h dlrow ollehere i am\n"
     ]
    }
   ],
   "execution_count": 34
  },
  {
   "metadata": {},
   "cell_type": "markdown",
   "source": "4. Первое и последнее вхождение",
   "id": "cb74e77ffce8f0c"
  },
  {
   "metadata": {},
   "cell_type": "code",
   "outputs": [],
   "execution_count": null,
   "source": [
    "%time\n",
    "\n",
    "user_input_string = input('Введите строку: ')\n",
    "\n",
    "first_of_f = user_input_string.find('f')\n",
    "if first_of_f == -1:\n",
    "    pass\n",
    "else:\n",
    "    count_of_f = user_input_string.count('f')\n",
    "    print(first_of_f if count_of_f == 1 else f\"{first_of_f}, {user_input_string.rindex('f')}\")"
   ],
   "id": "afab54b65b7e6afb"
  },
  {
   "metadata": {},
   "cell_type": "markdown",
   "source": [
    "5. Пользователь (или несколько пользователей за одним компьютером) вводит слова. Начиная\n",
    "со второго введённого слова, программа проверяет, совпадает ли первая буква\n",
    "свежевведённого слова с последней буквой предыдущего. Если да, то программа работает\n",
    "дальше (считывает очередное слово). Если нет — выводит последнее на этот момент\n",
    "введённое слово и завершает работу."
   ],
   "id": "5435312c11749c0b"
  },
  {
   "metadata": {
    "ExecuteTime": {
     "end_time": "2025-02-13T18:04:56.440871Z",
     "start_time": "2025-02-13T18:04:39.541182Z"
    }
   },
   "cell_type": "code",
   "source": [
    "previous_word = input('Введите первое слово: ')\n",
    "while True:\n",
    "    current_word = input('Введите следующее слово: ')\n",
    "    if current_word[0] == previous_word[-1]:\n",
    "        previous_word = current_word\n",
    "    else:\n",
    "        print(current_word)\n",
    "        break"
   ],
   "id": "4d1ef873bfb99d45",
   "outputs": [
    {
     "name": "stdout",
     "output_type": "stream",
     "text": [
      "тула\n"
     ]
    }
   ],
   "execution_count": 36
  },
  {
   "metadata": {},
   "cell_type": "code",
   "outputs": [],
   "execution_count": null,
   "source": "",
   "id": "6070b6e18bbec619"
  }
 ],
 "metadata": {
  "kernelspec": {
   "display_name": "Python 3",
   "language": "python",
   "name": "python3"
  },
  "language_info": {
   "codemirror_mode": {
    "name": "ipython",
    "version": 2
   },
   "file_extension": ".py",
   "mimetype": "text/x-python",
   "name": "python",
   "nbconvert_exporter": "python",
   "pygments_lexer": "ipython2",
   "version": "2.7.6"
  }
 },
 "nbformat": 4,
 "nbformat_minor": 5
}
