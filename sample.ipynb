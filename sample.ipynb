{
 "cells": [
  {
   "metadata": {},
   "cell_type": "markdown",
   "source": "1. \"Делаем срезы\"",
   "id": "8a77807f92f26ee"
  },
  {
   "metadata": {
    "ExecuteTime": {
     "end_time": "2025-02-13T08:46:32.494399Z",
     "start_time": "2025-02-13T08:46:29.680573Z"
    }
   },
   "cell_type": "code",
   "source": [
    "str = input('Введите строку: ')\n",
    "print(str)\n",
    "print(str[2])\n",
    "print(str[-2])\n",
    "\n",
    "str_for_3ex = ''\n",
    "for i in range(0, 5):\n",
    "    str_for_3ex += str[:i]\n",
    "    \n",
    "print(str_for_3ex)"
   ],
   "id": "fbc121e30a2defb3",
   "outputs": [
    {
     "name": "stdout",
     "output_type": "stream",
     "text": [
      "qwerty\n",
      "e\n",
      "t\n",
      "qqwqweqwer\n"
     ]
    }
   ],
   "execution_count": 7
  },
  {
   "metadata": {
    "ExecuteTime": {
     "end_time": "2025-02-13T08:46:26.285108Z",
     "start_time": "2025-02-13T08:46:26.270431Z"
    }
   },
   "cell_type": "code",
   "source": "",
   "id": "b516e95be1af0609",
   "outputs": [],
   "execution_count": 6
  },
  {
   "metadata": {},
   "cell_type": "code",
   "outputs": [],
   "execution_count": null,
   "source": "",
   "id": "f65d48948ad31ed1"
  }
 ],
 "metadata": {
  "kernelspec": {
   "display_name": "Python 3",
   "language": "python",
   "name": "python3"
  },
  "language_info": {
   "codemirror_mode": {
    "name": "ipython",
    "version": 2
   },
   "file_extension": ".py",
   "mimetype": "text/x-python",
   "name": "python",
   "nbconvert_exporter": "python",
   "pygments_lexer": "ipython2",
   "version": "2.7.6"
  }
 },
 "nbformat": 4,
 "nbformat_minor": 5
}
